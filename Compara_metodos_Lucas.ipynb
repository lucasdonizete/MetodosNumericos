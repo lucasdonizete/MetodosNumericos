{
  "nbformat": 4,
  "nbformat_minor": 0,
  "metadata": {
    "colab": {
      "name": "Compara_metodos_Lucas.ipynb",
      "provenance": [],
      "collapsed_sections": [],
      "include_colab_link": true
    },
    "kernelspec": {
      "name": "python3",
      "display_name": "Python 3"
    }
  },
  "cells": [
    {
      "cell_type": "markdown",
      "metadata": {
        "id": "view-in-github",
        "colab_type": "text"
      },
      "source": [
        "<a href=\"https://colab.research.google.com/github/lucasdonizete/MetodosNumericos/blob/master/Compara_metodos_Lucas.ipynb\" target=\"_parent\"><img src=\"https://colab.research.google.com/assets/colab-badge.svg\" alt=\"Open In Colab\"/></a>"
      ]
    },
    {
      "cell_type": "code",
      "metadata": {
        "id": "eK9P8bynKAO0",
        "colab_type": "code",
        "colab": {}
      },
      "source": [
        "import numpy as np\n",
        "import numpy.linalg as npla\n",
        "import time\n",
        "import matplotlib.pyplot as plt"
      ],
      "execution_count": 9,
      "outputs": []
    },
    {
      "cell_type": "code",
      "metadata": {
        "id": "pQjysWjVJ9HV",
        "colab_type": "code",
        "colab": {
          "base_uri": "https://localhost:8080/",
          "height": 134
        },
        "outputId": "7fcc488f-1677-4dfd-dad1-0120ff125d53"
      },
      "source": [
        "!git clone https://github.com/lucasdonizete/MetodosNumericos #clonar do Github\n",
        "%cd MetodosNumericos"
      ],
      "execution_count": 10,
      "outputs": [
        {
          "output_type": "stream",
          "text": [
            "Cloning into 'MetodosNumericos'...\n",
            "remote: Enumerating objects: 57, done.\u001b[K\n",
            "remote: Counting objects: 100% (57/57), done.\u001b[K\n",
            "remote: Compressing objects: 100% (56/56), done.\u001b[K\n",
            "remote: Total 57 (delta 28), reused 0 (delta 0), pack-reused 0\u001b[K\n",
            "Unpacking objects: 100% (57/57), done.\n",
            "/content/MetodosNumericos/MetodosNumericos/MetodosNumericos/MetodosNumericos/MetodosNumericos\n"
          ],
          "name": "stdout"
        }
      ]
    },
    {
      "cell_type": "code",
      "metadata": {
        "id": "0T_GJdknKHWA",
        "colab_type": "code",
        "colab": {}
      },
      "source": [
        "from GaussPivot import gauss\n",
        "from GaussSiedel import gauss_seidel\n",
        "from Gauss_Jacobi import jacobi\n",
        "from Relaxacao import SOR"
      ],
      "execution_count": 11,
      "outputs": []
    },
    {
      "cell_type": "code",
      "metadata": {
        "id": "agJqchMqIku3",
        "colab_type": "code",
        "colab": {
          "base_uri": "https://localhost:8080/",
          "height": 447
        },
        "outputId": "1c494df3-6e8c-47da-c8ba-66b87243b8d2"
      },
      "source": [
        "# size of the matrix to be calculated\n",
        "SIZE = [10,50,100,1000]\n",
        "\n",
        "# create list\n",
        "cpu_time_numpy = []\n",
        "cpu_time_pivot = []\n",
        "cpu_time_seidel = []\n",
        "cpu_time_jacobi = []\n",
        "cpu_time_relax = []\n",
        "\n",
        "\n",
        "# loop over the size\n",
        "for size in SIZE :\n",
        "  # create the system\n",
        "  A = np.random.rand(size,size)\n",
        "  f = np.random.rand(size)\n",
        "  x0=np.ones(size)\n",
        "  # nummpy\n",
        "  t0 = time.clock()\n",
        "  w=npla.solve(A,f)\n",
        "  cpu_time_numpy.append(time.clock()-t0)\n",
        "\n",
        "  # Pivotamento\n",
        "  t0 = time.clock()\n",
        "  x= gauss(A,f)\n",
        "  cpu_time_pivot.append(time.clock()-t0)\n",
        "\n",
        "  # Siedel\n",
        "  t0 = time.clock()\n",
        "  x= gauss_seidel(A,f,x0)\n",
        "  cpu_time_seidel.append(time.clock()-t0)\n",
        "\n",
        "    # Jacobi\n",
        "  t0 = time.clock()\n",
        "  x= jacobi(A,f,x0)\n",
        "  cpu_time_jacobi.append(time.clock()-t0)\n",
        "\n",
        "      #SOR\n",
        "  t0 = time.clock()\n",
        "  x= SOR(A,f,x0)\n",
        "  cpu_time_relax.append(time.clock()-t0)\n",
        "\n",
        "\n",
        "# plot the results\n",
        "plt.semilogy(SIZE,cpu_time_numpy,'o-',linewidth=4, color='black',label='Numpy')\n",
        "plt.semilogy(SIZE,cpu_time_pivot,'o-',linewidth=4, color='tan',label='Pivotamento')\n",
        "plt.semilogy(SIZE,cpu_time_seidel,'o-',linewidth=4, color='green',label='Seidel')\n",
        "plt.semilogy(SIZE,cpu_time_jacobi,'o-',linewidth=4, color='red',label='Jacobi')\n",
        "plt.semilogy(SIZE,cpu_time_relax,'o-',linewidth=4, color='blue',label='Relaxação')\n",
        "plt.xlabel('Size of the system'  )\n",
        "plt.ylabel('Computation Time')\n",
        "plt.xlim([0,1250])\n",
        "plt.legend(loc=2)\n",
        "plt.show()"
      ],
      "execution_count": 12,
      "outputs": [
        {
          "output_type": "stream",
          "text": [
            "/content/MetodosNumericos/GaussSiedel.py:40: RuntimeWarning: overflow encountered in double_scalars\n",
            "  x_new[i] = (f[i]-sum1-sum2)/A[i,i]\n",
            "/content/MetodosNumericos/GaussSiedel.py:35: RuntimeWarning: invalid value encountered in double_scalars\n",
            "  sum1 += A[i,j]*x_new[j]\n",
            "/content/MetodosNumericos/Gauss_Jacobi.py:33: RuntimeWarning: overflow encountered in double_scalars\n",
            "  xnew[i] = (f[i] - sum)/A[i,i]\n",
            "/content/MetodosNumericos/Gauss_Jacobi.py:32: RuntimeWarning: overflow encountered in double_scalars\n",
            "  sum += A[i,j]*x[j]\n",
            "/content/MetodosNumericos/Relaxacao.py:11: RuntimeWarning: overflow encountered in double_scalars\n",
            "  x2[i]=(-a[i].dot(x2)+b[i])*w/a[i,i]+x2[i]\n"
          ],
          "name": "stderr"
        },
        {
          "output_type": "display_data",
          "data": {
            "image/png": "[encoded data removed]",
            "text/plain": [
              "<Figure size 432x288 with 1 Axes>"
            ]
          },
          "metadata": {
            "tags": [],
            "needs_background": "light"
          }
        }
      ]
    }
  ]
}