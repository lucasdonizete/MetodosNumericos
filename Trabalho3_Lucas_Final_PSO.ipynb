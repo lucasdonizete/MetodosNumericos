{
  "nbformat": 4,
  "nbformat_minor": 0,
  "metadata": {
    "colab": {
      "name": "Trabalho3_Lucas_PSO.ipynb",
      "provenance": [],
      "collapsed_sections": [],
      "include_colab_link": true
    },
    "kernelspec": {
      "name": "python3",
      "display_name": "Python 3"
    }
  },
  "cells": [
    {
      "cell_type": "markdown",
      "metadata": {
        "id": "view-in-github",
        "colab_type": "text"
      },
      "source": [
        "<a href=\"https://colab.research.google.com/github/lucasdonizete/MetodosNumericos/blob/master/Trabalho3_Lucas_Final_PSO.ipynb\" target=\"_parent\"><img src=\"https://colab.research.google.com/assets/colab-badge.svg\" alt=\"Open In Colab\"/></a>"
      ]
    },
    {
      "cell_type": "code",
      "metadata": {
        "id": "7Yo-MeQYXs0P"
      },
      "source": [
        "import numpy as np"
      ],
      "execution_count": 1,
      "outputs": []
    },
    {
      "cell_type": "code",
      "metadata": {
        "id": "ZSVv74mNGYR0",
        "outputId": "e3c3c9f8-68dd-42f1-dd5e-72114a2ce0b0",
        "colab": {
          "base_uri": "https://localhost:8080/",
          "height": 50
        }
      },
      "source": [
        "T=500\n",
        "p=18\n",
        "Tc=425.2\n",
        "pc=37.5\n",
        "R=0.08206\n",
        "aRK=0.42748*(R*Tc)**2/pc*(Tc/T)**0.5\n",
        "bRK= 0.08664*(R*Tc/pc)\n",
        "tol=0.000001\n",
        "print(aRK,bRK)\n",
        "\n",
        "acentric = 0.193\n",
        "mPR = 0.37363 + (1.54226 - 0.26992*acentric)*acentric\n",
        "alphaPR = (1 + mPR *(1-(T/Tc)**0.5)) ** 2\n",
        "aPR = 0.45724 * alphaPR * (R * Tc) ** 2 / pc\n",
        "bPR = 0.07780 * (R * Tc / pc)\n",
        "\n",
        "print(mPR,alphaPR)"
      ],
      "execution_count": 2,
      "outputs": [
        {
          "output_type": "stream",
          "text": [
            "12.79810578874512 0.08061427348479999\n",
            "0.66123192992 0.8915021179598929\n"
          ],
          "name": "stdout"
        }
      ]
    },
    {
      "cell_type": "code",
      "metadata": {
        "id": "fSL_NBWomOCw"
      },
      "source": [
        "def FUNCTION(x): \n",
        " Z= p * x[0]**3 - R * T * x[0]**2 + (aRK - p * bRK**2 - R * T * bRK) * x[0] - aRK * bRK\n",
        " return Z\n",
        " \n"
      ],
      "execution_count": 3,
      "outputs": []
    },
    {
      "cell_type": "code",
      "metadata": {
        "id": "7g0DqgDeG8Bd"
      },
      "source": [
        "def Enxame(PAR,NPAR,MAX,MIN):\n",
        "    x=np.zeros((NPAR, len(MAX)))\n",
        "    for j in range(len(MAX)):\n",
        "        for i in range(NPAR):\n",
        "            x[i,j]=MIN[j]+(MAX[j]-MIN[j])*np.random.random()\n",
        "    return x\n",
        "\n",
        "def OBJ(x):\n",
        "    rows = len(x)\n",
        "    cols = len(x[0])\n",
        "    fobj=np.zeros(rows)\n",
        "    for i in range(rows):\n",
        "        for j in range(cols):\n",
        "            fobj[i]=FUNCTION(x[i,])\n",
        "    return fobj\n",
        "    # return fobj.min()\n",
        "\n",
        "def VALOR(x):\n",
        "    fob=FUNCTION(x)\n",
        "    return fob\n",
        "\n",
        "def BEST(X,RBEST):\n",
        "    rows = len(X)\n",
        "    cols = len(X[0])\n",
        "    YCAL=OBJ(X)\n",
        "    NEW=VALOR(RBEST)\n",
        "    for i in range(rows):\n",
        "        for j in range(cols):\n",
        "            if(YCAL[i]<NEW):\n",
        "                RBEST[j]=X[i,j]\n",
        "    return RBEST\n",
        "\n",
        "def PART(X,PBEST):\n",
        "    rows = len(X)\n",
        "    cols = len(X[0])\n",
        "    YCAL=OBJ(PBEST)\n",
        "    NEW=OBJ(X).min()\n",
        "    for i in range(rows):\n",
        "        for j in range(cols):\n",
        "            if(YCAL[i]>NEW):\n",
        "                PBEST[i,j]=X[i,j]\n",
        "    return PBEST\n",
        "\n",
        "def VE(X,VEL,BEST,PBEST,W,C1,C2):\n",
        "    rows = len(X)\n",
        "    cols = len(X[0])\n",
        "    for i in range(rows):\n",
        "        for j in range(cols):\n",
        "            R1=np.random.random()\n",
        "            R2=np.random.random()\n",
        "            VEL[i,j]=W*VEL[i,j]+C1*R1*(PBEST[i,j]-X[i,j])+C2*R2*(BEST[j]-X[i,j])\n",
        "            X[i,j]=X[i,j]+VEL[i,j]\n",
        "    return VEL,X\n",
        "\n",
        "\n",
        "def PSO(W,C1,C2,NPAR,ITE,PAR,MAX,MIN):\n",
        "    X=Enxame(PAR,NPAR,MAX,MIN) # CRIA A POPULACAO\n",
        "    ycal=OBJ(X) # CALCULA A FUNCAO OBJETIVO PARA TODAS PARTICULAS\n",
        "    PBEST=PART(X,X) # O MELHOR LOCAL DE CADA PARTICULA INICIALMENTE ALEATORIA\n",
        "    VBEST=[]\n",
        "    for i in range(PAR):\n",
        "        VBEST.append(1e10)\n",
        "    VBEST=BEST(X,VBEST)\n",
        "    VELOC=Enxame(PAR,NPAR,MAX,MIN)# VELOCIDADES INICIALMENTE ALEATORIAS\n",
        "    RESP=[]\n",
        "    for k in range(ITE):\n",
        "        yteste=VALOR(VBEST)\n",
        "        VELOC, X=VE(X,VELOC,VBEST,PBEST,W,C1,C2)\n",
        "        VBEST=BEST(X,VBEST)\n",
        "        PBEST=PART(X,PBEST)\n",
        "        yteste=VALOR(VBEST)\n",
        "        RESP.append(yteste)\n",
        "    return RESP,VBEST"
      ],
      "execution_count": 4,
      "outputs": []
    },
    {
      "cell_type": "code",
      "metadata": {
        "id": "U_fDgh--JUTK",
        "outputId": "6fa66838-72a9-4032-9953-53a85b630951",
        "colab": {
          "base_uri": "https://localhost:8080/",
          "height": 538
        }
      },
      "source": [
        "\"\"\"\n",
        "Created on Wed Dec 12 2018\n",
        "@author: ucfilho\n",
        "\"\"\"\n",
        "W=0.75\n",
        "C1=2\n",
        "C2=2\n",
        "NPAR=100 #PARTICULAS\n",
        "ITE=300 #ITERACOES\n",
        "PAR=1 #NUM DE PARAMETROS A SER OTIMIZADOS\n",
        "MAX=[4] # MAXIMO DE CADA PARAMETRO\n",
        "MIN=[-1] # MINIMO DE CADA PARAMETRO\n",
        "\n",
        "resp,best=PSO(W,C1,C2,NPAR,ITE,PAR,MAX,MIN)\n",
        "\n",
        "for i in range(ITE):\n",
        "    if((i+1)%10==0):\n",
        "        print(\"iteracao=\",i+1,\"fobj=\",resp[i])\n",
        "print(best)\n"
      ],
      "execution_count": 5,
      "outputs": [
        {
          "output_type": "stream",
          "text": [
            "iteracao= 10 fobj= -84876.42736103453\n",
            "iteracao= 20 fobj= -116968.39101090697\n",
            "iteracao= 30 fobj= -118983.06520270246\n",
            "iteracao= 40 fobj= -119097.20077020956\n",
            "iteracao= 50 fobj= -119103.63031285034\n",
            "iteracao= 60 fobj= -119103.99238986932\n",
            "iteracao= 70 fobj= -119104.01277972068\n",
            "iteracao= 80 fobj= -119104.01392794489\n",
            "iteracao= 90 fobj= -119104.01399260535\n",
            "iteracao= 100 fobj= -119104.01399624666\n",
            "iteracao= 110 fobj= -119104.0139964517\n",
            "iteracao= 120 fobj= -119104.01399646321\n",
            "iteracao= 130 fobj= -119106.62796190566\n",
            "iteracao= 140 fobj= -119108.42805504413\n",
            "iteracao= 150 fobj= -119108.52942515445\n",
            "iteracao= 160 fobj= -119108.53513366335\n",
            "iteracao= 170 fobj= -119108.53545512956\n",
            "iteracao= 180 fobj= -119108.5354732324\n",
            "iteracao= 190 fobj= -119108.53547425184\n",
            "iteracao= 200 fobj= -119108.53547430925\n",
            "iteracao= 210 fobj= -119108.53547431245\n",
            "iteracao= 220 fobj= -119108.57826770625\n",
            "iteracao= 230 fobj= -119108.58668660135\n",
            "iteracao= 240 fobj= -119108.58716069904\n",
            "iteracao= 250 fobj= -119108.58718739703\n",
            "iteracao= 260 fobj= -119108.58718890046\n",
            "iteracao= 270 fobj= -119108.58718898516\n",
            "iteracao= 280 fobj= -119108.58718898983\n",
            "iteracao= 290 fobj= -119108.58723458022\n",
            "iteracao= 300 fobj= -119108.58724389525\n",
            "[-18.035182876271822]\n"
          ],
          "name": "stdout"
        }
      ]
    }
  ]
}