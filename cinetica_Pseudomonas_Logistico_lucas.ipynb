{
  "nbformat": 4,
  "nbformat_minor": 0,
  "metadata": {
    "colab": {
      "name": "cinetica_Pseudomonas_Logistico-lucas.ipynb",
      "provenance": [],
      "collapsed_sections": [],
      "include_colab_link": true
    },
    "kernelspec": {
      "name": "python3",
      "display_name": "Python 3"
    }
  },
  "cells": [
    {
      "cell_type": "markdown",
      "metadata": {
        "id": "view-in-github",
        "colab_type": "text"
      },
      "source": [
        "<a href=\"https://colab.research.google.com/github/lucasdonizete/MetodosNumericos/blob/master/cinetica_Pseudomonas_Logistico_lucas.ipynb\" target=\"_parent\"><img src=\"https://colab.research.google.com/assets/colab-badge.svg\" alt=\"Open In Colab\"/></a>"
      ]
    },
    {
      "cell_type": "code",
      "metadata": {
        "id": "1FqdWwVtCeSu"
      },
      "source": [
        "import numpy as np\n",
        "import matplotlib.pyplot as plt\n",
        "from sklearn.metrics import r2_score"
      ],
      "execution_count": 1,
      "outputs": []
    },
    {
      "cell_type": "code",
      "metadata": {
        "id": "wyFnudJwXWMp"
      },
      "source": [
        ""
      ],
      "execution_count": 1,
      "outputs": []
    },
    {
      "cell_type": "code",
      "metadata": {
        "id": "jAaQ9UiAJGUS",
        "colab": {
          "base_uri": "https://localhost:8080/"
        },
        "outputId": "c410f034-65f3-4a04-ee58-8f6ee07ddedf"
      },
      "source": [
        "!git clone https://github.com/ucfilho/Disciplina_Metodos_Numericos_2020 #clonar do Github\n",
        "%cd Disciplina_Metodos_Numericos_2020"
      ],
      "execution_count": 2,
      "outputs": [
        {
          "output_type": "stream",
          "text": [
            "fatal: destination path 'Disciplina_Metodos_Numericos_2020' already exists and is not an empty directory.\n",
            "/content/Disciplina_Metodos_Numericos_2020\n"
          ],
          "name": "stdout"
        }
      ]
    },
    {
      "cell_type": "code",
      "metadata": {
        "id": "6ln1rA4oCXkI"
      },
      "source": [
        "from edo_rotinas import rk4\n",
        "\n",
        "def model( x, t, ):\n",
        "  global k, alpha\n",
        "  dA_dt = alpha*x*(1-(x/k))\n",
        "  return dA_dt\n",
        "      \n",
        "def Indices(t,time_values,t0):\n",
        "  Time = t.tolist();\n",
        "  n = len(time_values)\n",
        "  Id = np.zeros(n,dtype=int)\n",
        "  for i in range(n):\n",
        "    Id[i] =Time.index(time_values[i] )\n",
        "    # Id[i] =int((time_values[i]-t0)/h)\n",
        "  return Id\n",
        "\n",
        "def fobj(x_calc,x_true):\n",
        "  k=0\n",
        "  soma = 0.0\n",
        "  for x in x_calc:\n",
        "    soma = soma + (x - x_true[k])**2\n",
        "    k = k+1\n",
        "  return soma\n"
      ],
      "execution_count": 3,
      "outputs": []
    },
    {
      "cell_type": "code",
      "metadata": {
        "id": "YudhrIw9YxWR"
      },
      "source": [
        "a, b = ( 0.0, 16 )\n",
        "x0 = 5.2\n",
        "t0=0\n",
        "n = 33\n",
        "t = np.linspace( a, b, n )\n",
        "# conditions to be used in optimization\n",
        "time_values = [0.0, 1.0, 2.0, 3.0, 4.0,5.0,6.0,7.0,8.0,9.0,10.0,11.0,12.0, 13.0, 14.0,15.0,16.0]\n",
        "x_true = [5.23,\t5.17,\t5.1,\t5.08,\t5.12,\t5.2,\t5.43,\t5.62,\t5.88,\t6.08,\t6.4,\t6.59, 6.80, 7.0, 7.33, 7.6,7.7]\n",
        "\n",
        "Id = Indices(t,time_values,t0)\n"
      ],
      "execution_count": 4,
      "outputs": []
    },
    {
      "cell_type": "code",
      "metadata": {
        "id": "A4Yh5qHX4F6U"
      },
      "source": [
        "k_min = 1; k_max = 25\n",
        "alpha_min = 0.01 ; alpha_max = 1.0\n",
        "N = 200\n",
        "d_k = (k_max-k_min)/N\n",
        "d_alpha = (alpha_max-alpha_min)/N \n",
        "MELHOR = 1E99 \n",
        "k_calc = 1e9; alpha_calc = 1e9\n",
        "x_best = x_true.copy()"
      ],
      "execution_count": 5,
      "outputs": []
    },
    {
      "cell_type": "code",
      "metadata": {
        "id": "ULbl_rQBE8UV",
        "colab": {
          "base_uri": "https://localhost:8080/"
        },
        "outputId": "a37b2f34-c2fc-4fa7-88c4-3066e76f68e1"
      },
      "source": [
        "for i in range(N+1):\n",
        "  k = k_min+ d_k*i\n",
        "  for j in range(N+1):\n",
        "    alpha = alpha_min+ d_alpha*j\n",
        "    try: \n",
        "      x = rk4( model, x0, t )\n",
        "      x_calc= x[Id]\n",
        "      MIN = fobj(x_calc,x_true)\n",
        "    except:\n",
        "      MIN = 1e99\n",
        "    if MELHOR > MIN:\n",
        "      k_calc = k*1.0\n",
        "      alpha_calc = alpha*1.0\n",
        "      MELHOR = MIN*1.0\n",
        "      x_best = x_calc\n",
        "    \n"
      ],
      "execution_count": 6,
      "outputs": [
        {
          "output_type": "stream",
          "text": [
            "/usr/local/lib/python3.6/dist-packages/ipykernel_launcher.py:5: RuntimeWarning: overflow encountered in double_scalars\n",
            "  \"\"\"\n",
            "/usr/local/lib/python3.6/dist-packages/ipykernel_launcher.py:21: RuntimeWarning: overflow encountered in double_scalars\n"
          ],
          "name": "stderr"
        }
      ]
    },
    {
      "cell_type": "code",
      "metadata": {
        "id": "5oQmDri4FDZ8",
        "colab": {
          "base_uri": "https://localhost:8080/"
        },
        "outputId": "f048b44f-5f03-4645-b0ec-76772c3adba6"
      },
      "source": [
        "r_squared = r2_score(x_true,x_best)\n",
        "print('k =',k_calc,'alpha =', alpha_calc,'fobj =', MELHOR,'R^2=',r_squared)"
      ],
      "execution_count": 7,
      "outputs": [
        {
          "output_type": "stream",
          "text": [
            "k = 22.96 alpha = 0.0298 fobj = 2.1417529197761667 R^2= 0.8481634404402291\n"
          ],
          "name": "stdout"
        }
      ]
    }
  ]
}