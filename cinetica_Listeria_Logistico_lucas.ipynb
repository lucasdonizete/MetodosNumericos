{
  "nbformat": 4,
  "nbformat_minor": 0,
  "metadata": {
    "colab": {
      "name": "cinetica_Listeria_Logistico-lucas.ipynb",
      "provenance": [],
      "collapsed_sections": [],
      "include_colab_link": true
    },
    "kernelspec": {
      "name": "python3",
      "display_name": "Python 3"
    }
  },
  "cells": [
    {
      "cell_type": "markdown",
      "metadata": {
        "id": "view-in-github",
        "colab_type": "text"
      },
      "source": [
        "<a href=\"https://colab.research.google.com/github/lucasdonizete/MetodosNumericos/blob/master/cinetica_Listeria_Logistico_lucas.ipynb\" target=\"_parent\"><img src=\"https://colab.research.google.com/assets/colab-badge.svg\" alt=\"Open In Colab\"/></a>"
      ]
    },
    {
      "cell_type": "code",
      "metadata": {
        "id": "1FqdWwVtCeSu"
      },
      "source": [
        "import numpy as np\n",
        "import matplotlib.pyplot as plt\n",
        "from sklearn.metrics import r2_score"
      ],
      "execution_count": null,
      "outputs": []
    },
    {
      "cell_type": "code",
      "metadata": {
        "id": "wyFnudJwXWMp"
      },
      "source": [
        ""
      ],
      "execution_count": null,
      "outputs": []
    },
    {
      "cell_type": "code",
      "metadata": {
        "id": "jAaQ9UiAJGUS",
        "colab": {
          "base_uri": "https://localhost:8080/"
        },
        "outputId": "c8428279-d98f-450f-b76f-1022cab661fb"
      },
      "source": [
        "!git clone https://github.com/ucfilho/Disciplina_Metodos_Numericos_2020 #clonar do Github\n",
        "%cd Disciplina_Metodos_Numericos_2020"
      ],
      "execution_count": null,
      "outputs": [
        {
          "output_type": "stream",
          "text": [
            "fatal: destination path 'Disciplina_Metodos_Numericos_2020' already exists and is not an empty directory.\n",
            "/content/Disciplina_Metodos_Numericos_2020\n"
          ],
          "name": "stdout"
        }
      ]
    },
    {
      "cell_type": "code",
      "metadata": {
        "id": "6ln1rA4oCXkI"
      },
      "source": [
        "from edo_rotinas import rk4\n",
        "\n",
        "def model( x, t, ):\n",
        "  global k, alpha\n",
        "  dA_dt = alpha*x*(1-(x/k))\n",
        "  return dA_dt\n",
        "      \n",
        "def Indices(t,time_values,t0):\n",
        "  Time = t.tolist();\n",
        "  n = len(time_values)\n",
        "  Id = np.zeros(n,dtype=int)\n",
        "  for i in range(n):\n",
        "    Id[i] =Time.index(time_values[i] )\n",
        "    # Id[i] =int((time_values[i]-t0)/h)\n",
        "  return Id\n",
        "\n",
        "def fobj(x_calc,x_true):\n",
        "  k=0\n",
        "  soma = 0.0\n",
        "  for x in x_calc:\n",
        "    soma = soma + (x - x_true[k])**2\n",
        "    k = k+1\n",
        "  return soma\n"
      ],
      "execution_count": null,
      "outputs": []
    },
    {
      "cell_type": "code",
      "metadata": {
        "id": "YudhrIw9YxWR"
      },
      "source": [
        "a, b = ( 0.0, 12 )\n",
        "x0 = 4.2\n",
        "t0=0\n",
        "n = 25\n",
        "t = np.linspace( a, b, n )\n",
        "# conditions to be used in optimization\n",
        "time_values = [0.0, 1.0, 2.0, 3.0, 4.0,5.0,6.0,7.0,8.0,9.0,10.0,11.0,12.0]\n",
        "x_true = [4.22,\t4.89,\t5.75,\t6.66,\t7.27, 7.42,7.82,7.79,7.9,8.01,8.0,8.02, 8.0]\n",
        "Id = Indices(t,time_values,t0)\n"
      ],
      "execution_count": null,
      "outputs": []
    },
    {
      "cell_type": "code",
      "metadata": {
        "id": "A4Yh5qHX4F6U"
      },
      "source": [
        "k_min = 0.05; k_max = 10\n",
        "alpha_min = 0.1 ; alpha_max = 1.0\n",
        "N = 200\n",
        "d_k = (k_max-k_min)/N\n",
        "d_alpha = (alpha_max-alpha_min)/N \n",
        "MELHOR = 1E99 \n",
        "k_calc = 1e9; alpha_calc = 1e9\n",
        "x_best = x_true.copy()"
      ],
      "execution_count": null,
      "outputs": []
    },
    {
      "cell_type": "code",
      "metadata": {
        "id": "ULbl_rQBE8UV",
        "colab": {
          "base_uri": "https://localhost:8080/"
        },
        "outputId": "72572606-bfdf-48ac-afe2-f721505ec2a9"
      },
      "source": [
        "for i in range(N+1):\n",
        "  k = k_min+ d_k*i\n",
        "  for j in range(N+1):\n",
        "    alpha = alpha_min+ d_alpha*j\n",
        "    try: \n",
        "      x = rk4( model, x0, t )\n",
        "      x_calc= x[Id]\n",
        "      MIN = fobj(x_calc,x_true)\n",
        "    except:\n",
        "      MIN = 1e99\n",
        "    if MELHOR > MIN:\n",
        "      k_calc = k*1.0\n",
        "      alpha_calc = alpha*1.0\n",
        "      MELHOR = MIN*1.0\n",
        "      x_best = x_calc\n",
        "    \n"
      ],
      "execution_count": null,
      "outputs": [
        {
          "output_type": "stream",
          "text": [
            "/usr/local/lib/python3.6/dist-packages/ipykernel_launcher.py:5: RuntimeWarning: overflow encountered in double_scalars\n",
            "  \"\"\"\n",
            "/usr/local/lib/python3.6/dist-packages/ipykernel_launcher.py:21: RuntimeWarning: overflow encountered in double_scalars\n"
          ],
          "name": "stderr"
        }
      ]
    },
    {
      "cell_type": "code",
      "metadata": {
        "id": "5oQmDri4FDZ8",
        "colab": {
          "base_uri": "https://localhost:8080/"
        },
        "outputId": "43a4bf5f-9280-46a3-8787-60c6c0f1ec43"
      },
      "source": [
        "r_squared = r2_score(x_true,x_best)\n",
        "print('k =',k_calc,'alpha =', alpha_calc,'fobj =', MELHOR,'R^2=',r_squared)"
      ],
      "execution_count": null,
      "outputs": [
        {
          "output_type": "stream",
          "text": [
            "k = 8.1095 alpha = 0.4645 fobj = 0.1599354385114198 R^2= 0.9920947826531781\n"
          ],
          "name": "stdout"
        }
      ]
    }
  ]
}