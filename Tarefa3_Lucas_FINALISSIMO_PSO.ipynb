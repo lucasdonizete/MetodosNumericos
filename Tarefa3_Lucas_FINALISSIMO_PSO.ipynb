{
  "nbformat": 4,
  "nbformat_minor": 0,
  "metadata": {
    "colab": {
      "name": "Tarefa3_Lucas_PSO.ipynb",
      "provenance": [],
      "collapsed_sections": [],
      "include_colab_link": true
    },
    "kernelspec": {
      "name": "python3",
      "display_name": "Python 3"
    }
  },
  "cells": [
    {
      "cell_type": "markdown",
      "metadata": {
        "id": "view-in-github",
        "colab_type": "text"
      },
      "source": [
        "<a href=\"https://colab.research.google.com/github/lucasdonizete/MetodosNumericos/blob/master/Tarefa3_Lucas_FINALISSIMO_PSO.ipynb\" target=\"_parent\"><img src=\"https://colab.research.google.com/assets/colab-badge.svg\" alt=\"Open In Colab\"/></a>"
      ]
    },
    {
      "cell_type": "code",
      "metadata": {
        "id": "7Yo-MeQYXs0P"
      },
      "source": [
        "import numpy as np"
      ],
      "execution_count": 1,
      "outputs": []
    },
    {
      "cell_type": "code",
      "metadata": {
        "id": "vKQoy5g9ahlD"
      },
      "source": [
        "W=0.75\n",
        "C1=1\n",
        "C2=1\n",
        "NPAR=100 #PARTICULAS\n",
        "ITE=5000 #ITERACOES\n",
        "PAR=1 #NUM DE PARAMETROS A SER OTIMIZADOS\n",
        "MAX=[3] # MAXIMO DE CADA PARAMETRO\n",
        "MIN=[2] # MINIMO DE CADA PARAMETRO\n",
        "\n",
        "T=500\n",
        "p=18\n",
        "Tc=425.2\n",
        "pc=37.5\n",
        "R=0.08206\n",
        "aRK=0.42748*(R*Tc)**2/pc*(Tc/T)**0.5\n",
        "bRK= 0.08664*(R*Tc/pc)\n",
        "tol=0.000001"
      ],
      "execution_count": 2,
      "outputs": []
    },
    {
      "cell_type": "code",
      "metadata": {
        "id": "2-R-y2BFc1jI"
      },
      "source": [
        "def FUNCTION(x):\n",
        "  Z= p * x[0]**3 - R * T * x[0]**2 + (aRK - p * bRK**2 - R * T * bRK) * x[0] - aRK * bRK\n",
        "  return Z"
      ],
      "execution_count": 3,
      "outputs": []
    },
    {
      "cell_type": "code",
      "metadata": {
        "id": "7g0DqgDeG8Bd"
      },
      "source": [
        "def Enxame(PAR,NPAR,MAX,MIN):\n",
        "    x=np.zeros((NPAR, len(MAX)))\n",
        "    for j in range(len(MAX)):\n",
        "        for i in range(NPAR):\n",
        "            x[i,j]=MIN[j]+(MAX[j]-MIN[j])*np.random.random()\n",
        "    return x\n",
        "\n",
        "def OBJ(x):\n",
        "    rows = len(x)\n",
        "    cols = len(x[0])\n",
        "    fobj=np.zeros(rows)\n",
        "    for i in range(rows):\n",
        "        for j in range(cols):\n",
        "            fobj[i]=FUNCTION(x[i,])\n",
        "    return fobj\n",
        "    # return fobj.min()\n",
        "\n",
        "def VALOR(x):\n",
        "    fob=FUNCTION(x)\n",
        "    return fob\n",
        "\n",
        "def BEST(X,RBEST):\n",
        "    rows = len(X)\n",
        "    cols = len(X[0])\n",
        "    YCAL=OBJ(X)\n",
        "    NEW=VALOR(RBEST)\n",
        "    for i in range(rows):\n",
        "        for j in range(cols):\n",
        "            if(YCAL[i]<NEW):\n",
        "                RBEST[j]=X[i,j]\n",
        "    return RBEST\n",
        "\n",
        "def PART(X,PBEST):\n",
        "    rows = len(X)\n",
        "    cols = len(X[0])\n",
        "    YCAL=OBJ(PBEST)\n",
        "    NEW=OBJ(X).min()\n",
        "    for i in range(rows):\n",
        "        for j in range(cols):\n",
        "            if(YCAL[i]<NEW):\n",
        "                PBEST[i,j]=X[i,j]\n",
        "    return PBEST\n",
        "\n",
        "def VE(X,VEL,BEST,PBEST,W,C1,C2):\n",
        "    rows = len(X)\n",
        "    cols = len(X[0])\n",
        "    for i in range(rows):\n",
        "        for j in range(cols):\n",
        "            #R1=np.random.random()\n",
        "            #R2=np.random.random()\n",
        "            VEL[i,j]=W*VEL[i,j]+C1*(PBEST[i,j]-X[i,j])+C2*(BEST[j]-X[i,j])\n",
        "            X[i,j]=X[i,j]+VEL[i,j]\n",
        "    return VEL,X\n",
        "\n",
        "\n",
        "def PSO(W,C1,C2,NPAR,ITE,PAR,MAX,MIN):\n",
        "    X=Enxame(PAR,NPAR,MAX,MIN) # CRIA A POPULACAO\n",
        "    ycal=OBJ(X) # CALCULA A FUNCAO OBJETIVO PARA TODAS PARTICULAS\n",
        "    PBEST=PART(X,X) # O MELHOR LOCAL DE CADA PARTICULA INICIALMENTE ALEATORIA\n",
        "    VBEST=[]\n",
        "    for i in range(PAR):\n",
        "        VBEST.append(1e10)\n",
        "    VBEST=BEST(X,VBEST)\n",
        "    VELOC=Enxame(PAR,NPAR,MAX,MIN)# VELOCIDADES INICIALMENTE ALEATORIAS\n",
        "    RESP=[]\n",
        "    for k in range(ITE):\n",
        "        yteste=VALOR(VBEST)\n",
        "        VELOC, X=VE(X,VELOC,VBEST,PBEST,W,C1,C2)\n",
        "        VBEST=BEST(X,VBEST)\n",
        "        PBEST=PART(X,PBEST)\n",
        "        yteste=VALOR(VBEST)\n",
        "        RESP.append(yteste)\n",
        "    return RESP,VBEST"
      ],
      "execution_count": 4,
      "outputs": []
    },
    {
      "cell_type": "code",
      "metadata": {
        "id": "U_fDgh--JUTK",
        "outputId": "559d3e9f-7357-44f2-c2e5-67d6b8b0a38e",
        "colab": {
          "base_uri": "https://localhost:8080/",
          "height": 34
        }
      },
      "source": [
        "resp,best=PSO(W,C1,C2,NPAR,ITE,PAR,MAX,MIN)\n",
        "print(best)\n"
      ],
      "execution_count": 5,
      "outputs": [
        {
          "output_type": "stream",
          "text": [
            "[1.395216054188677]\n"
          ],
          "name": "stdout"
        }
      ]
    }
  ]
}