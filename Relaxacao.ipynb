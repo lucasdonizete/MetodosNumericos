{
  "nbformat": 4,
  "nbformat_minor": 0,
  "metadata": {
    "colab": {
      "name": "Relaxacao",
      "provenance": [],
      "collapsed_sections": [],
      "authorship_tag": "ABX9TyMW6Id3fotawDXqskpX5UXg",
      "include_colab_link": true
    },
    "kernelspec": {
      "name": "python3",
      "display_name": "Python 3"
    }
  },
  "cells": [
    {
      "cell_type": "markdown",
      "metadata": {
        "id": "view-in-github",
        "colab_type": "text"
      },
      "source": [
        "<a href=\"https://colab.research.google.com/github/lucasdonizete/MetodosNumericos/blob/master/Relaxacao.ipynb\" target=\"_parent\"><img src=\"https://colab.research.google.com/assets/colab-badge.svg\" alt=\"Open In Colab\"/></a>"
      ]
    },
    {
      "cell_type": "code",
      "metadata": {
        "id": "evp0aVIaX9tp",
        "colab_type": "code",
        "colab": {}
      },
      "source": [
        "import numpy as np\n",
        "\n",
        "def SOR(a,b,x0,w=1,c=0.0001,d=30):\n",
        "    x1=x0.copy()*1.0\n",
        "    x2=x0.copy()*1.0\n",
        "    k=0\n",
        "    \n",
        "    while k<d:\n",
        "        k=k+1\n",
        "        for i in range(a.shape[1]):\n",
        "            x2[i]=(-a[i].dot(x2)+b[i])*w/a[i,i]+x2[i]\n",
        "        if np.max(np.abs(x2-x1))<=c:\n",
        "            break\n",
        "        x1=x2.copy()\n",
        "    if(k==d):\n",
        "      info='nao convergiu'\n",
        "    else:\n",
        "      info='convergiu'\n",
        "    k=k-1\n",
        "    return x2,info,k"
      ],
      "execution_count": null,
      "outputs": []
    }
  ]
}