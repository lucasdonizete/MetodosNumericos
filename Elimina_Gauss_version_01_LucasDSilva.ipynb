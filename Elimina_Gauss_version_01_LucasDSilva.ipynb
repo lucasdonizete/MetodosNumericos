{
  "nbformat": 4,
  "nbformat_minor": 0,
  "metadata": {
    "colab": {
      "name": "Elimina_Gauss_version_01_LucasDSilva.ipynb",
      "provenance": [],
      "collapsed_sections": [],
      "include_colab_link": true
    },
    "kernelspec": {
      "name": "python3",
      "display_name": "Python 3"
    }
  },
  "cells": [
    {
      "cell_type": "markdown",
      "metadata": {
        "id": "view-in-github",
        "colab_type": "text"
      },
      "source": [
        "<a href=\"https://colab.research.google.com/github/lucasdonizete/MetodosNumericos/blob/master/Elimina_Gauss_version_01_LucasDSilva.ipynb\" target=\"_parent\"><img src=\"https://colab.research.google.com/assets/colab-badge.svg\" alt=\"Open In Colab\"/></a>"
      ]
    },
    {
      "cell_type": "code",
      "metadata": {
        "id": "remAkX_qlBLr",
        "colab_type": "code",
        "colab": {}
      },
      "source": [
        "import numpy as np\n",
        "import time\n",
        "import matplotlib.pyplot as plt\n",
        "import numpy.linalg as npla\n",
        "\n",
        "\n",
        "########################################################\n",
        "# Function to decompose the matrix\n",
        "# in an upper triangular form\n",
        "########################################################\n",
        "\n",
        "def LU(A,f):\n",
        "  # get the size of the system\n",
        "  n = len(f)\n",
        "  \n",
        "  # check the size\n",
        "  \n",
        "  if (A.shape[0] != n) or (A.shape[1] != n):\n",
        "    print('\\t Inconsistent size in LU decomposition')\n",
        "    info = 0\n",
        "    return M,info\n",
        "\n",
        "  # create the augmented matrix\n",
        "  M = np.zeros((n,n+1))\n",
        "  M[:,:-1] = A\n",
        "  M[:,-1] = f\n",
        "\n",
        "  # loop through all the colum\n",
        "  # to get rid of the lower part\n",
        "  for iC in range(n-1):\n",
        "    # for each column loop over all the lines\n",
        "    # that are below the diagonal\n",
        "    # to set to 0 their elements\n",
        "    for iL in range(iC+1,n):\n",
        "      # check if the diagonal element\n",
        "      # is null\n",
        "      if(M[iC,iC] == 0):\n",
        "        print('\\t Zero on the diagonal, LU failed')\n",
        "        info = 0\n",
        "        return M,info\n",
        "      # eliminate the element\n",
        "      M[iL,:] = M[iL,:] - M[iL,iC]/M[iC,iC] * M[iC,:]\n",
        "\n",
        "   # if we succed we return info = 1 and the upper augmetned matrix\n",
        "\n",
        "  info = 1\n",
        "  return M,info\n",
        "      "
      ],
      "execution_count": 33,
      "outputs": []
    },
    {
      "cell_type": "code",
      "metadata": {
        "id": "dBfKB-QKm-91",
        "colab_type": "code",
        "colab": {}
      },
      "source": [
        "########################################################\n",
        "# Function to backsubstitute the results\n",
        "# and get the final solution\n",
        "########################################################\n",
        "def BS(M):\n",
        "  # get the size of the matrix\n",
        "  n = M.shape[0]\n",
        "  # loop over all the lines\n",
        "  # starting by the end\n",
        "  for iL in range(n-1,-1,-1):\n",
        "    # check if we have diagonal elements on the diagonal\n",
        "    if(M[iL,iL] == 0):\n",
        "      print('\\t Zero on the diagonal, LU failed')\n",
        "      info = 0\n",
        "      return M,info\n",
        "    # divide the line by the diagonal element of M\n",
        "    M[iL,:] /= M[iL,iL]\n",
        "    \n",
        "    # loop over all the lines that are above this onef\n",
        "    for iLL in range(iL-1,-1,-1):\n",
        "      M[iLL,:] -= M[iLL,iL]*M[iL,:]\n",
        "\n",
        "  info = 1\n",
        "  return M,info\n",
        "\n",
        "########################################################\n",
        "########################################################"
      ],
      "execution_count": 34,
      "outputs": []
    },
    {
      "cell_type": "code",
      "metadata": {
        "id": "nQAUrcZ7nwbu",
        "colab_type": "code",
        "colab": {
          "base_uri": "https://localhost:8080/",
          "height": 218
        },
        "outputId": "384449cc-fb18-41aa-a7b6-b310acdd36ed"
      },
      "source": [
        "# create the matrix A\n",
        "A = np. array ([[1 ,1 ,0, 0] ,[-220, 0, 1, 0] , [0, -0.3, 0, 1], [0, 0, 1, 1]])\n",
        "\n",
        "# create the right-hand side\n",
        "feed = np. array ([1 ,0 ,0, 1])\n",
        "\n",
        "M,info = LU(A,feed)\n",
        "x,info = BS(M)\n",
        "\n",
        "# print the solution\n",
        "print(x)\n",
        "\n",
        "# check the solution\n",
        "check_sol = np.dot(A,x)\n",
        "print(check_sol) \n"
      ],
      "execution_count": 35,
      "outputs": [
        {
          "output_type": "stream",
          "text": [
            "[[ 1.          0.          0.          0.          0.00318616]\n",
            " [ 0.          1.          0.          0.          0.99681384]\n",
            " [ 0.          0.          1.          0.          0.70095585]\n",
            " [-0.         -0.         -0.          1.          0.29904415]]\n",
            "[[ 1.00000000e+00  1.00000000e+00  0.00000000e+00  0.00000000e+00\n",
            "   1.00000000e+00]\n",
            " [-2.20000000e+02  0.00000000e+00  1.00000000e+00  0.00000000e+00\n",
            "   8.21565038e-15]\n",
            " [ 0.00000000e+00 -3.00000000e-01  0.00000000e+00  1.00000000e+00\n",
            "   0.00000000e+00]\n",
            " [ 0.00000000e+00  0.00000000e+00  1.00000000e+00  1.00000000e+00\n",
            "   1.00000000e+00]]\n"
          ],
          "name": "stdout"
        }
      ]
    },
    {
      "cell_type": "code",
      "metadata": {
        "id": "mq6dPmdV6v-w",
        "colab_type": "code",
        "colab": {
          "base_uri": "https://localhost:8080/",
          "height": 118
        },
        "outputId": "cefcf857-0882-4937-bcb4-da63d16ed676"
      },
      "source": [
        "# create the matrix B\n",
        "B = np. array ([[1,1,-1],[0.70095585, 0.00318616, -0.1] , [0,0,0.1]])\n",
        "\n",
        "# create the right-hand side\n",
        "alimenta = np. array ([0, 0, 10])\n",
        "\n",
        "N,info = LU(B,alimenta)\n",
        "a,info = BS(N)\n",
        "\n",
        "# print the solution\n",
        "print(a)\n",
        "\n",
        "# check the solution\n",
        "check_sol = np.dot(B,a)\n",
        "print(check_sol) "
      ],
      "execution_count": 36,
      "outputs": [
        {
          "output_type": "stream",
          "text": [
            "[[  1.           0.           0.          13.87475572]\n",
            " [ -0.           1.          -0.          86.12524428]\n",
            " [  0.           0.           1.         100.        ]]\n",
            "[[ 1.00000000e+00  1.00000000e+00 -1.00000000e+00  0.00000000e+00]\n",
            " [ 7.00955850e-01  3.18616000e-03 -1.00000000e-01 -2.33146835e-15]\n",
            " [ 0.00000000e+00  0.00000000e+00  1.00000000e-01  1.00000000e+01]]\n"
          ],
          "name": "stdout"
        }
      ]
    }
  ]
}