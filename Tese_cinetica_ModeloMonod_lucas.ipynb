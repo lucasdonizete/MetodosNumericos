{
  "nbformat": 4,
  "nbformat_minor": 0,
  "metadata": {
    "colab": {
      "name": "Tese-cinetica_ModeloMonod-lucas.ipynb",
      "provenance": [],
      "collapsed_sections": [],
      "include_colab_link": true
    },
    "kernelspec": {
      "name": "python3",
      "display_name": "Python 3"
    }
  },
  "cells": [
    {
      "cell_type": "markdown",
      "metadata": {
        "id": "view-in-github",
        "colab_type": "text"
      },
      "source": [
        "<a href=\"https://colab.research.google.com/github/lucasdonizete/MetodosNumericos/blob/master/Tese_cinetica_ModeloMonod_lucas.ipynb\" target=\"_parent\"><img src=\"https://colab.research.google.com/assets/colab-badge.svg\" alt=\"Open In Colab\"/></a>"
      ]
    },
    {
      "cell_type": "code",
      "metadata": {
        "id": "1FqdWwVtCeSu"
      },
      "source": [
        "import numpy as np\n",
        "import matplotlib.pyplot as plt\n",
        "from sklearn.metrics import r2_score"
      ],
      "execution_count": 1,
      "outputs": []
    },
    {
      "cell_type": "code",
      "metadata": {
        "id": "jAaQ9UiAJGUS",
        "colab": {
          "base_uri": "https://localhost:8080/"
        },
        "outputId": "04b285cb-1d07-4983-f719-ae4ba0378116"
      },
      "source": [
        "!git clone https://github.com/ucfilho/Disciplina_Metodos_Numericos_2020 #clonar do Github\n",
        "%cd Disciplina_Metodos_Numericos_2020"
      ],
      "execution_count": 2,
      "outputs": [
        {
          "output_type": "stream",
          "text": [
            "fatal: destination path 'Disciplina_Metodos_Numericos_2020' already exists and is not an empty directory.\n",
            "/content/Disciplina_Metodos_Numericos_2020\n"
          ],
          "name": "stdout"
        }
      ]
    },
    {
      "cell_type": "code",
      "metadata": {
        "id": "6ln1rA4oCXkI"
      },
      "source": [
        "from edo_rotinas import rk4\n",
        "\n",
        "def modelo(x,t):\n",
        "  global mi, xmax, KsYxs\n",
        "  dX_dt = ((mi*(xmax-x))/(KsYxs+(xmax-x)))*x\n",
        "  return dX_dt   \n",
        "      \n",
        "def Indices(t,time_values,t0):\n",
        "  Time = t.tolist();\n",
        "  n = len(time_values)\n",
        "  Id = np.zeros(n,dtype=int)\n",
        "  for i in range(n):\n",
        "    Id[i] =Time.index(time_values[i] )\n",
        "    # Id[i] =int((time_values[i]-t0)/h)\n",
        "  return Id\n",
        "\n",
        "def fobj(x_calc,x_true):\n",
        "  k=0\n",
        "  soma = 0.0\n",
        "  for x in x_calc:\n",
        "    soma = soma + (x - x_true[k])**2\n",
        "    k = k+1\n",
        "  return soma"
      ],
      "execution_count": 3,
      "outputs": []
    },
    {
      "cell_type": "code",
      "metadata": {
        "id": "YudhrIw9YxWR"
      },
      "source": [
        "a, b = ( 0.0, 12 )\n",
        "x0 = 4.2\n",
        "t0=0\n",
        "n = 25\n",
        "t = np.linspace( a, b, n )\n",
        "# conditions to be used in optimization\n",
        "time_values = [0.0, 1.0, 2.0, 3.0, 4.0,5.0,6.0,7.0,8.0,9.0,10.0,11.0,12.0]\n",
        "x_true = [4.22,\t4.89,\t5.75,\t6.66,\t7.27, 7.42,7.82,7.79,7.9,8.01,8.0,8.02, 8.0]\n",
        "Id = Indices(t,time_values,t0)\n"
      ],
      "execution_count": 4,
      "outputs": []
    },
    {
      "cell_type": "code",
      "metadata": {
        "id": "A4Yh5qHX4F6U"
      },
      "source": [
        "mi_min = 0.01; mi_max = 2\n",
        "xmax_min = 4 ; xmax_max = 10\n",
        "KsYxs_min = 1; KsYxs_max = 10\n",
        "N = 100\n",
        "d_mi = (mi_max-mi_min)/N\n",
        "d_xmax = (xmax_max-xmax_min)/N \n",
        "d_KsYxs = (KsYxs_max-KsYxs_min)/N\n",
        "MELHOR = 1E99 \n",
        "mi_calc = 1e9; xmax_calc = 1e9; KsYxs_calc = 1e9; \n",
        "x_best = x_true.copy()"
      ],
      "execution_count": 5,
      "outputs": []
    },
    {
      "cell_type": "code",
      "metadata": {
        "id": "ULbl_rQBE8UV"
      },
      "source": [
        "for i in range(N+1):\n",
        "  mi = mi_min+ d_mi*i\n",
        "  for j in range(N+1):\n",
        "    xmax = xmax_min+ d_xmax*j\n",
        "    for k in range(N+1):\n",
        "      KsYxs = KsYxs_min+ d_KsYxs*k\n",
        "      try: \n",
        "        x = rk4( modelo, x0, t )\n",
        "        x_calc= x[Id]\n",
        "        MIN = fobj(x_calc,x_true)\n",
        "      except:\n",
        "        MIN = 1e99\n",
        "      if MELHOR > MIN:\n",
        "        mi_calc = mi*1.0\n",
        "        xmax_calc = xmax*1.0\n",
        "        KsYxs_calc = KsYxs*1.0\n",
        "        MELHOR = MIN*1.0\n",
        "        x_best = x_calc\n",
        "      \n"
      ],
      "execution_count": 6,
      "outputs": []
    },
    {
      "cell_type": "code",
      "metadata": {
        "id": "5oQmDri4FDZ8",
        "colab": {
          "base_uri": "https://localhost:8080/"
        },
        "outputId": "bdbb8961-9eb4-4dc8-afc9-d004f9d65600"
      },
      "source": [
        "r_squared = r2_score(x_true,x_best)\n",
        "print('Mi =',mi_calc,'xmax =', xmax_calc, 'KsYxs =', KsYxs_calc, 'fobj =', MELHOR,'R^2=',r_squared)"
      ],
      "execution_count": 7,
      "outputs": [
        {
          "output_type": "stream",
          "text": [
            "Mi = 0.5 xmax = 8.02 KsYxs = 5.95 fobj = 0.08458595712054726 R^2= 0.9958191231302427\n"
          ],
          "name": "stdout"
        }
      ]
    }
  ]
}