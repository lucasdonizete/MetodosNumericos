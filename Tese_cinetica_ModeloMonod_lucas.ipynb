{
  "nbformat": 4,
  "nbformat_minor": 0,
  "metadata": {
    "colab": {
      "name": "Tese-cinetica_ModeloMonod-lucas.ipynb",
      "provenance": [],
      "collapsed_sections": [],
      "include_colab_link": true
    },
    "kernelspec": {
      "name": "python3",
      "display_name": "Python 3"
    }
  },
  "cells": [
    {
      "cell_type": "markdown",
      "metadata": {
        "id": "view-in-github",
        "colab_type": "text"
      },
      "source": [
        "<a href=\"https://colab.research.google.com/github/lucasdonizete/MetodosNumericos/blob/master/Tese_cinetica_ModeloMonod_lucas.ipynb\" target=\"_parent\"><img src=\"https://colab.research.google.com/assets/colab-badge.svg\" alt=\"Open In Colab\"/></a>"
      ]
    },
    {
      "cell_type": "code",
      "metadata": {
        "id": "1FqdWwVtCeSu"
      },
      "source": [
        "import numpy as np\n",
        "import matplotlib.pyplot as plt\n",
        "from sklearn.metrics import r2_score"
      ],
      "execution_count": 1,
      "outputs": []
    },
    {
      "cell_type": "code",
      "metadata": {
        "id": "wyFnudJwXWMp"
      },
      "source": [
        ""
      ],
      "execution_count": 1,
      "outputs": []
    },
    {
      "cell_type": "code",
      "metadata": {
        "id": "jAaQ9UiAJGUS",
        "colab": {
          "base_uri": "https://localhost:8080/"
        },
        "outputId": "2b537ee2-981a-4ef2-f6fa-0d3c2d46d5fc"
      },
      "source": [
        "!git clone https://github.com/ucfilho/Disciplina_Metodos_Numericos_2020 #clonar do Github\n",
        "%cd Disciplina_Metodos_Numericos_2020"
      ],
      "execution_count": 2,
      "outputs": [
        {
          "output_type": "stream",
          "text": [
            "fatal: destination path 'Disciplina_Metodos_Numericos_2020' already exists and is not an empty directory.\n",
            "/content/Disciplina_Metodos_Numericos_2020\n"
          ],
          "name": "stdout"
        }
      ]
    },
    {
      "cell_type": "code",
      "metadata": {
        "id": "6ln1rA4oCXkI"
      },
      "source": [
        "from edo_rotinas import rk4\n",
        "\n",
        "def modelo(x,t):\n",
        "  global mi, xmax, Yxs, Ks\n",
        "  dX_dt = ((mi*(xmax-x))/(Ks*Yxs+(xmax-x)))*x\n",
        "  return dX_dt   \n",
        "      \n",
        "def Indices(t,time_values,t0):\n",
        "  Time = t.tolist();\n",
        "  n = len(time_values)\n",
        "  Id = np.zeros(n,dtype=int)\n",
        "  for i in range(n):\n",
        "    Id[i] =Time.index(time_values[i] )\n",
        "    # Id[i] =int((time_values[i]-t0)/h)\n",
        "  return Id\n",
        "\n",
        "def fobj(x_calc,x_true):\n",
        "  k=0\n",
        "  soma = 0.0\n",
        "  for x in x_calc:\n",
        "    soma = soma + (x - x_true[k])**2\n",
        "    k = k+1\n",
        "  return soma\n",
        "\n",
        " \n"
      ],
      "execution_count": 3,
      "outputs": []
    },
    {
      "cell_type": "code",
      "metadata": {
        "id": "YudhrIw9YxWR"
      },
      "source": [
        "a, b = ( 0.0, 12 )\n",
        "x0 = 4.2\n",
        "t0=0\n",
        "n = 25\n",
        "t = np.linspace( a, b, n )\n",
        "# conditions to be used in optimization\n",
        "time_values = [0.0, 1.0, 2.0, 3.0, 4.0,5.0,6.0,7.0,8.0,9.0,10.0,11.0,12.0]\n",
        "x_true = [4.22,\t4.89,\t5.75,\t6.66,\t7.27, 7.42,7.82,7.79,7.9,8.01,8.0,8.02, 8.0]\n",
        "Id = Indices(t,time_values,t0)\n"
      ],
      "execution_count": 4,
      "outputs": []
    },
    {
      "cell_type": "code",
      "metadata": {
        "id": "A4Yh5qHX4F6U"
      },
      "source": [
        "mi_min = 0; mi_max = 10\n",
        "xmax_min = 0 ; xmax_max = 1.0\n",
        "Yxs_min = 0; Yxs_max = 10\n",
        "Ks_min = 0 ; Ks_max = 1.0\n",
        "N = 200\n",
        "d_mi = (mi_max-mi_min)/N\n",
        "d_xmax = (xmax_max-xmax_min)/N \n",
        "d_Yxs = (Yxs_max-Yxs_min)/N\n",
        "d_Ks = (Ks_max-Ks_min)/N \n",
        "MELHOR = 1E99 \n",
        "mi_calc = 1e9; xmax_calc = 1e9; Yxs_calc = 1e9; Ks_calc = 1e9; \n",
        "x_best = x_true.copy()"
      ],
      "execution_count": 5,
      "outputs": []
    },
    {
      "cell_type": "code",
      "metadata": {
        "id": "ULbl_rQBE8UV",
        "colab": {
          "base_uri": "https://localhost:8080/"
        },
        "outputId": "2208b276-c102-4846-f42a-8c75f1792008"
      },
      "source": [
        "for i in range(N+1):\n",
        "  mi = mi_min+ d_mi*i\n",
        "  for j in range(N+1):\n",
        "    xmax = xmax_min+ d_xmax*j\n",
        "    for k in range(N+1):\n",
        "      Yxs = Yxs_min+ d_Yxs*k\n",
        "      for l in range(N+1):\n",
        "        Ks = Ks_min+ d_Ks*l\n",
        "        try: \n",
        "          x = rk4( modelo, x0, t )\n",
        "          x_calc= x[Id]\n",
        "          MIN = fobj(x_calc,x_true)\n",
        "        except:\n",
        "          MIN = 1e99\n",
        "        if MELHOR > MIN:\n",
        "          mi_calc = mi*1.0\n",
        "          xmax_calc = xmax*1.0\n",
        "          Yxs_calc = Yxs*1.0\n",
        "          Ks_calc = Ks*1.0\n",
        "          MELHOR = MIN*1.0\n",
        "          x_best = x_calc\n",
        "      \n"
      ],
      "execution_count": null,
      "outputs": [
        {
          "output_type": "stream",
          "text": [
            "/usr/local/lib/python3.6/dist-packages/ipykernel_launcher.py:5: RuntimeWarning: invalid value encountered in double_scalars\n",
            "  \"\"\"\n"
          ],
          "name": "stderr"
        }
      ]
    },
    {
      "cell_type": "code",
      "metadata": {
        "id": "5oQmDri4FDZ8"
      },
      "source": [
        "r_squared = r2_score(x_true,x_best)\n",
        "print('Mi =',mi_calc,'xmax =', xmax_calc, 'Yxs =', Yxs_calc, 'Ks =', Ks_calc, 'fobj =', MELHOR,'R^2=',r_squared)"
      ],
      "execution_count": null,
      "outputs": []
    }
  ]
}